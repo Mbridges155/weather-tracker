{
 "cells": [
  {
   "cell_type": "code",
   "execution_count": 37,
   "id": "aee423a0-9cbf-4876-aaed-bf27d6e9eb27",
   "metadata": {},
   "outputs": [],
   "source": [
    "import requests"
   ]
  },
  {
   "cell_type": "code",
   "execution_count": 38,
   "id": "b766971c-6115-4722-9d29-5abdc5cb313c",
   "metadata": {},
   "outputs": [],
   "source": [
    "import csv"
   ]
  },
  {
   "cell_type": "code",
   "execution_count": 39,
   "id": "ecf9838a-be3c-4291-839c-7e9938dd81f8",
   "metadata": {},
   "outputs": [],
   "source": [
    "import os"
   ]
  },
  {
   "cell_type": "code",
   "execution_count": 40,
   "id": "c2a01253-a00f-441e-a536-484a6dd748a8",
   "metadata": {},
   "outputs": [],
   "source": [
    "from datetime import datetime"
   ]
  },
  {
   "cell_type": "code",
   "execution_count": 8,
   "id": "67413844-9eb5-45c2-9588-4d9ffd8f7568",
   "metadata": {},
   "outputs": [
    {
     "name": "stdout",
     "output_type": "stream",
     "text": [
      "Requirement already satisfied: schedule in c:\\users\\macke\\anaconda3\\lib\\site-packages (1.2.2)\n"
     ]
    }
   ],
   "source": [
    "!pip install schedule"
   ]
  },
  {
   "cell_type": "code",
   "execution_count": 41,
   "id": "b768a0a6-750c-4948-a85f-9166522e8757",
   "metadata": {},
   "outputs": [],
   "source": [
    "# API Setup\n",
    "API_KEY = \"d87a7bfd5b2049f38c69103cfa4f2f69\"\n",
    "BASE_URL = \"http://api.openweathermap.org/data/2.5/weather\""
   ]
  },
  {
   "cell_type": "code",
   "execution_count": 42,
   "id": "0bdb2bf2-3321-4259-b729-bfd78b0a68ff",
   "metadata": {},
   "outputs": [],
   "source": [
    "# Function to get weather data\n",
    "def get_weather(city):\n",
    "    params = {\n",
    "        'q': city,\n",
    "        'appid': API_KEY,\n",
    "        'units': 'metric'\n",
    "}\n",
    "    response = requests.get(BASE_URL, params=params)\n",
    "    data = response.json()\n",
    "    return data"
   ]
  },
  {
   "cell_type": "code",
   "execution_count": 43,
   "id": "f99c5291-8392-4d4f-b700-e3d7cf811a8a",
   "metadata": {},
   "outputs": [
    {
     "ename": "NameError",
     "evalue": "name 'fake_weather_data' is not defined",
     "output_type": "error",
     "traceback": [
      "\u001b[1;31m---------------------------------------------------------------------------\u001b[0m",
      "\u001b[1;31mNameError\u001b[0m                                 Traceback (most recent call last)",
      "Cell \u001b[1;32mIn[43], line 18\u001b[0m\n\u001b[0;32m      8\u001b[0m     timestamp \u001b[38;5;241m=\u001b[39m datetime\u001b[38;5;241m.\u001b[39mnow()\u001b[38;5;241m.\u001b[39misoformat() \u001b[38;5;66;03m# ISO format = clean and sortable\u001b[39;00m\n\u001b[0;32m     10\u001b[0m     \u001b[38;5;28;01mreturn\u001b[39;00m  {\n\u001b[0;32m     11\u001b[0m     \u001b[38;5;124m'\u001b[39m\u001b[38;5;124mcity\u001b[39m\u001b[38;5;124m'\u001b[39m: city,\n\u001b[0;32m     12\u001b[0m     \u001b[38;5;124m'\u001b[39m\u001b[38;5;124mtemperature\u001b[39m\u001b[38;5;124m'\u001b[39m: temp,\n\u001b[1;32m   (...)\u001b[0m\n\u001b[0;32m     16\u001b[0m     \u001b[38;5;124m'\u001b[39m\u001b[38;5;124mtimestamp\u001b[39m\u001b[38;5;124m'\u001b[39m: timestamp\n\u001b[0;32m     17\u001b[0m }\n\u001b[1;32m---> 18\u001b[0m transformed \u001b[38;5;241m=\u001b[39m transform_weather(fake_weather_data)\n\u001b[0;32m     19\u001b[0m \u001b[38;5;28mprint\u001b[39m(transformed)\n",
      "\u001b[1;31mNameError\u001b[0m: name 'fake_weather_data' is not defined"
     ]
    }
   ],
   "source": [
    "# Function to transform data\n",
    "def transform_weather(data):\n",
    "    city = data['name']\n",
    "    temp = data['main']['temp']\n",
    "    humidity = data['main']['humidity']\n",
    "    weather_desc = data['weather'][0]['description']\n",
    "    wind_speed = data['wind']['speed']\n",
    "    timestamp = datetime.now().isoformat() # ISO format = clean and sortable\n",
    "    \n",
    "    return  {\n",
    "    'city': city,\n",
    "    'temperature': temp,\n",
    "    'humidity': humidity,\n",
    "    'description': weather_desc,\n",
    "    'wind_speed': wind_speed,\n",
    "    'timestamp': timestamp\n",
    "}\n",
    "transformed = transform_weather(fake_weather_data)\n",
    "print(transformed)"
   ]
  },
  {
   "cell_type": "code",
   "execution_count": 44,
   "id": "b878563c-790c-4213-916a-73216bb786d9",
   "metadata": {},
   "outputs": [],
   "source": [
    "# Function to save to CSV\n",
    "def save_to_csv(data, filename=\"weather_data.csv\"):\n",
    "    file_exists = os.path.isfile(filename)\n",
    "\n",
    "    with open(filename, mode='a', newline='') as file:\n",
    "        writer = csv.DictWriter(file, fieldnames=['city', 'temperature', 'humidity', 'description', 'wind_speed', 'timestamp'])\n",
    "\n",
    "        if not file_exists:\n",
    "            writer.writeheader()\n",
    "        writer.writerow(data)"
   ]
  },
  {
   "cell_type": "code",
   "execution_count": 45,
   "id": "fb364f91-325e-4187-9439-e64a3dd3d8c3",
   "metadata": {},
   "outputs": [],
   "source": [
    "# Run the full ETL process\n",
    "data = get_weather(\"New York\")\n",
    "transformed = transform_weather(data)\n",
    "save_to_csv(transformed)"
   ]
  },
  {
   "cell_type": "code",
   "execution_count": 46,
   "id": "9efbeed1-af03-4097-ad13-54230d7e3571",
   "metadata": {},
   "outputs": [
    {
     "data": {
      "text/plain": [
       "{'coord': {'lon': -74.006, 'lat': 40.7143},\n",
       " 'weather': [{'id': 804,\n",
       "   'main': 'Clouds',\n",
       "   'description': 'overcast clouds',\n",
       "   'icon': '04d'}],\n",
       " 'base': 'stations',\n",
       " 'main': {'temp': 27.07,\n",
       "  'feels_like': 29.06,\n",
       "  'temp_min': 26,\n",
       "  'temp_max': 28.45,\n",
       "  'pressure': 1019,\n",
       "  'humidity': 71,\n",
       "  'sea_level': 1019,\n",
       "  'grnd_level': 1017},\n",
       " 'visibility': 10000,\n",
       " 'wind': {'speed': 4.63, 'deg': 40, 'gust': 9.77},\n",
       " 'clouds': {'all': 100},\n",
       " 'dt': 1752425341,\n",
       " 'sys': {'type': 2,\n",
       "  'id': 2009754,\n",
       "  'country': 'US',\n",
       "  'sunrise': 1752399368,\n",
       "  'sunset': 1752452823},\n",
       " 'timezone': -14400,\n",
       " 'id': 5128581,\n",
       " 'name': 'New York',\n",
       " 'cod': 200}"
      ]
     },
     "execution_count": 46,
     "metadata": {},
     "output_type": "execute_result"
    }
   ],
   "source": [
    "get_weather(\"New York\")"
   ]
  },
  {
   "cell_type": "code",
   "execution_count": 47,
   "id": "c1fe8247-bea4-4fc5-b8c8-cdf4bc74f5d8",
   "metadata": {},
   "outputs": [
    {
     "data": {
      "text/plain": [
       "['.ipynb_checkpoints', 'Carmen Sandiego.ipynb', 'weather_data.csv']"
      ]
     },
     "execution_count": 47,
     "metadata": {},
     "output_type": "execute_result"
    }
   ],
   "source": [
    "os.listdir()"
   ]
  },
  {
   "cell_type": "code",
   "execution_count": 48,
   "id": "18ad2b3f-104b-4633-96a5-5a985464bcca",
   "metadata": {
    "scrolled": true
   },
   "outputs": [
    {
     "name": "stdout",
     "output_type": "stream",
     "text": [
      "city,temperature,humidity,description,wind_speed\n",
      "New York,24.74,78,scattered clouds,4.12\n",
      "New York,24.17,81,overcast clouds,4.47,2025-07-12T22:09:22.566013\n",
      "New York,24.11,81,overcast clouds,4.12,2025-07-12T22:21:13.240060\n",
      "New York,24.11,81,overcast clouds,4.12,2025-07-12T22:22:13.350663\n",
      "New York,24.11,81,overcast clouds,4.12,2025-07-12T22:23:13.465978\n",
      "New York,24.11,81,overcast clouds,4.12,2025-07-12T22:24:13.582910\n",
      "New York,24.11,81,overcast clouds,4.12,2025-07-12T22:25:13.700246\n",
      "New York,24.08,81,overcast clouds,4.12,2025-07-12T22:26:13.822773\n",
      "New York,24.08,81,overcast clouds,4.12,2025-07-12T22:27:13.947594\n",
      "New York,24.08,81,overcast clouds,4.12,2025-07-12T22:28:14.073295\n",
      "New York,24.08,81,overcast clouds,4.12,2025-07-12T22:29:14.172610\n",
      "New York,24.08,81,overcast clouds,4.12,2025-07-12T22:30:14.301380\n",
      "New York,24.08,81,overcast clouds,4.12,2025-07-12T22:31:14.401619\n",
      "New York,24.06,81,overcast clouds,4.12,2025-07-12T22:32:17.211888\n",
      "New York,24.06,81,overcast clouds,4.12,2025-07-12T22:33:17.328169\n",
      "New York,24.06,81,overcast clouds,4.12,2025-07-12T22:34:17.428287\n",
      "New York,24.08,81,overcast clouds,4.12,2025-07-12T22:35:17.559568\n",
      "New York,24.04,81,overcast clouds,4.12,2025-07-12T22:36:17.689416\n",
      "New York,24.06,81,overcast clouds,4.12,2025-07-12T22:37:17.825684\n",
      "New York,24.06,81,overcast clouds,4.12,2025-07-12T22:38:17.922487\n",
      "New York,24.06,81,overcast clouds,4.12,2025-07-12T22:39:18.032668\n",
      "New York,24.06,81,overcast clouds,4.12,2025-07-12T22:40:18.136016\n",
      "New York,24.06,81,overcast clouds,4.12,2025-07-12T22:41:18.260823\n",
      "New York,24.06,81,overcast clouds,4.12,2025-07-12T22:42:18.381382\n",
      "New York,24.06,81,overcast clouds,4.12,2025-07-12T22:43:18.499045\n",
      "New York,24.06,81,overcast clouds,4.12,2025-07-12T22:44:18.603153\n",
      "New York,24.06,81,overcast clouds,4.12,2025-07-12T22:45:18.707419\n",
      "New York,24.06,81,overcast clouds,4.12,2025-07-12T22:46:18.827889\n",
      "New York,24.06,81,overcast clouds,4.12,2025-07-12T22:47:18.925497\n",
      "New York,24.06,81,overcast clouds,4.12,2025-07-12T22:48:19.019907\n",
      "New York,24.09,81,overcast clouds,4.12,2025-07-12T22:49:19.151189\n",
      "New York,24.09,81,overcast clouds,4.12,2025-07-12T22:50:19.264306\n",
      "New York,24.09,81,overcast clouds,4.12,2025-07-12T22:51:19.372105\n",
      "New York,24.09,81,overcast clouds,4.12,2025-07-12T22:52:19.476629\n",
      "New York,24.09,81,overcast clouds,4.12,2025-07-12T22:53:19.581632\n",
      "New York,24.05,81,overcast clouds,4.12,2025-07-12T22:54:19.702080\n",
      "New York,24.05,81,overcast clouds,4.12,2025-07-12T22:55:19.802024\n",
      "New York,24.01,81,overcast clouds,4.12,2025-07-12T22:56:19.940272\n",
      "New York,24.01,81,overcast clouds,4.12,2025-07-12T22:57:20.055690\n",
      "New York,24.01,81,overcast clouds,4.12,2025-07-12T22:58:20.178574\n",
      "New York,24.01,81,overcast clouds,4.12,2025-07-12T22:59:20.269812\n",
      "New York,24.01,81,overcast clouds,4.12,2025-07-12T23:00:20.379767\n",
      "New York,24.05,81,overcast clouds,4.12,2025-07-12T23:01:20.505575\n",
      "New York,24.05,81,overcast clouds,4.12,2025-07-12T23:02:20.607340\n",
      "New York,23.89,82,broken clouds,4.02,2025-07-12T23:03:20.719809\n",
      "New York,23.89,82,broken clouds,4.02,2025-07-12T23:04:21.193721\n",
      "New York,24.01,81,overcast clouds,4.12,2025-07-12T23:05:21.341418\n",
      "New York,23.89,82,broken clouds,4.02,2025-07-12T23:06:21.465071\n",
      "New York,23.89,82,broken clouds,4.02,2025-07-12T23:07:21.574930\n",
      "New York,23.89,82,broken clouds,4.02,2025-07-12T23:08:21.668671\n",
      "New York,23.89,82,broken clouds,4.02,2025-07-12T23:09:21.812065\n",
      "New York,23.89,82,broken clouds,4.02,2025-07-12T23:10:21.941936\n",
      "New York,23.89,82,broken clouds,4.02,2025-07-12T23:11:22.048475\n",
      "New York,23.89,82,broken clouds,4.02,2025-07-12T23:12:22.154458\n",
      "New York,23.82,82,overcast clouds,3.13,2025-07-12T23:13:22.261884\n",
      "New York,23.82,82,overcast clouds,3.13,2025-07-12T23:14:22.371484\n",
      "New York,23.82,82,overcast clouds,3.13,2025-07-12T23:15:22.487633\n",
      "New York,26.45,74,overcast clouds,2.57,2025-07-13T11:46:56.741230\n",
      "New York,26.45,74,overcast clouds,2.57,2025-07-13T11:46:59.834509\n",
      "New York,26.45,74,overcast clouds,2.57,2025-07-13T11:47:59.946365\n",
      "New York,26.45,74,overcast clouds,2.57,2025-07-13T11:49:00.059399\n",
      "New York,26.45,74,overcast clouds,2.57,2025-07-13T11:50:00.160053\n",
      "New York,26.45,74,overcast clouds,2.57,2025-07-13T11:51:00.338277\n",
      "New York,26.45,74,overcast clouds,2.57,2025-07-13T11:52:00.458977\n",
      "New York,26.45,74,overcast clouds,2.57,2025-07-13T11:53:00.558098\n",
      "New York,26.7,74,overcast clouds,3.13,2025-07-13T11:54:00.686052\n",
      "New York,26.7,74,overcast clouds,3.13,2025-07-13T11:55:00.774181\n",
      "New York,26.84,73,overcast clouds,2.57,2025-07-13T11:56:00.912446\n",
      "New York,26.84,73,overcast clouds,2.57,2025-07-13T11:56:43.011175\n",
      "New York,26.84,73,overcast clouds,2.57,2025-07-13T11:57:00.210770\n",
      "New York,26.84,73,overcast clouds,2.57,2025-07-13T11:57:01.276168\n",
      "New York,26.84,73,overcast clouds,2.57,2025-07-13T11:58:01.385713\n",
      "New York,26.84,73,overcast clouds,2.57,2025-07-13T11:59:01.485266\n",
      "New York,26.84,73,overcast clouds,2.57,2025-07-13T12:00:01.601792\n",
      "New York,26.84,73,overcast clouds,2.57,2025-07-13T12:01:01.738014\n",
      "New York,26.84,73,overcast clouds,2.57,2025-07-13T12:02:01.845752\n",
      "New York,27.07,71,overcast clouds,4.63,2025-07-13T12:54:43.065507\n",
      "\n"
     ]
    }
   ],
   "source": [
    "with open(\"weather_data.csv\", \"r\") as file:\n",
    "    print(file.read())"
   ]
  },
  {
   "cell_type": "code",
   "execution_count": 49,
   "id": "7ec4d230-4476-4d29-9883-4a1a4046ceed",
   "metadata": {},
   "outputs": [],
   "source": [
    "import schedule"
   ]
  },
  {
   "cell_type": "code",
   "execution_count": 50,
   "id": "3d8e5ac7-afc2-44cc-b326-ced57579c741",
   "metadata": {},
   "outputs": [],
   "source": [
    "import time"
   ]
  },
  {
   "cell_type": "code",
   "execution_count": 51,
   "id": "40f09c5b-8391-40d7-9ba1-7177fa2ba4a1",
   "metadata": {},
   "outputs": [],
   "source": [
    "def job():\n",
    "    data = get_weather(\"New York\")\n",
    "    transformed = transform_weather(data)\n",
    "    save_to_csv(transformed)\n",
    "    print(f\"Logged weather at {transformed['timestamp']}\")"
   ]
  },
  {
   "cell_type": "code",
   "execution_count": 52,
   "id": "613a89b5-a9b2-4298-a1ed-d133dc79acbc",
   "metadata": {},
   "outputs": [
    {
     "data": {
      "text/plain": [
       "Every 10 minutes do job() (last run: [never], next run: 2025-07-13 13:04:45)"
      ]
     },
     "execution_count": 52,
     "metadata": {},
     "output_type": "execute_result"
    }
   ],
   "source": [
    "# Run the job every minute\n",
    "schedule.every(10).minutes.do(job)"
   ]
  },
  {
   "cell_type": "code",
   "execution_count": 53,
   "id": "d52502f1-24b9-4276-945e-5abea274451d",
   "metadata": {
    "collapsed": true,
    "jupyter": {
     "outputs_hidden": true
    }
   },
   "outputs": [
    {
     "name": "stdout",
     "output_type": "stream",
     "text": [
      "Logged weather at 2025-07-13T12:54:46.151453\n",
      "Logged weather at 2025-07-13T12:54:46.399527\n",
      "Logged weather at 2025-07-13T12:54:46.472200\n",
      "Logged weather at 2025-07-13T12:55:47.014858\n",
      "Logged weather at 2025-07-13T12:56:47.119315\n",
      "Logged weather at 2025-07-13T12:57:48.069187\n",
      "Logged weather at 2025-07-13T12:58:48.158893\n",
      "Logged weather at 2025-07-13T12:59:48.249040\n",
      "Logged weather at 2025-07-13T13:00:48.367114\n",
      "Logged weather at 2025-07-13T13:01:48.459411\n",
      "Logged weather at 2025-07-13T13:02:48.585608\n",
      "Logged weather at 2025-07-13T13:03:48.685722\n",
      "Logged weather at 2025-07-13T13:04:45.777035\n",
      "Logged weather at 2025-07-13T13:04:46.856221\n",
      "Logged weather at 2025-07-13T13:04:46.935677\n",
      "Logged weather at 2025-07-13T13:04:49.067284\n",
      "Logged weather at 2025-07-13T13:05:49.179973\n"
     ]
    },
    {
     "ename": "PermissionError",
     "evalue": "[Errno 13] Permission denied: 'weather_data.csv'",
     "output_type": "error",
     "traceback": [
      "\u001b[1;31m---------------------------------------------------------------------------\u001b[0m",
      "\u001b[1;31mPermissionError\u001b[0m                           Traceback (most recent call last)",
      "Cell \u001b[1;32mIn[53], line 2\u001b[0m\n\u001b[0;32m      1\u001b[0m \u001b[38;5;28;01mwhile\u001b[39;00m \u001b[38;5;28;01mTrue\u001b[39;00m:\n\u001b[1;32m----> 2\u001b[0m     schedule\u001b[38;5;241m.\u001b[39mrun_pending()\n\u001b[0;32m      3\u001b[0m     time\u001b[38;5;241m.\u001b[39msleep(\u001b[38;5;241m1\u001b[39m)\n",
      "File \u001b[1;32m~\\anaconda3\\Lib\\site-packages\\schedule\\__init__.py:854\u001b[0m, in \u001b[0;36mrun_pending\u001b[1;34m()\u001b[0m\n\u001b[0;32m    850\u001b[0m \u001b[38;5;28;01mdef\u001b[39;00m \u001b[38;5;21mrun_pending\u001b[39m() \u001b[38;5;241m-\u001b[39m\u001b[38;5;241m>\u001b[39m \u001b[38;5;28;01mNone\u001b[39;00m:\n\u001b[0;32m    851\u001b[0m \u001b[38;5;250m    \u001b[39m\u001b[38;5;124;03m\"\"\"Calls :meth:`run_pending <Scheduler.run_pending>` on the\u001b[39;00m\n\u001b[0;32m    852\u001b[0m \u001b[38;5;124;03m    :data:`default scheduler instance <default_scheduler>`.\u001b[39;00m\n\u001b[0;32m    853\u001b[0m \u001b[38;5;124;03m    \"\"\"\u001b[39;00m\n\u001b[1;32m--> 854\u001b[0m     default_scheduler\u001b[38;5;241m.\u001b[39mrun_pending()\n",
      "File \u001b[1;32m~\\anaconda3\\Lib\\site-packages\\schedule\\__init__.py:101\u001b[0m, in \u001b[0;36mScheduler.run_pending\u001b[1;34m(self)\u001b[0m\n\u001b[0;32m     99\u001b[0m runnable_jobs \u001b[38;5;241m=\u001b[39m (job \u001b[38;5;28;01mfor\u001b[39;00m job \u001b[38;5;129;01min\u001b[39;00m \u001b[38;5;28mself\u001b[39m\u001b[38;5;241m.\u001b[39mjobs \u001b[38;5;28;01mif\u001b[39;00m job\u001b[38;5;241m.\u001b[39mshould_run)\n\u001b[0;32m    100\u001b[0m \u001b[38;5;28;01mfor\u001b[39;00m job \u001b[38;5;129;01min\u001b[39;00m \u001b[38;5;28msorted\u001b[39m(runnable_jobs):\n\u001b[1;32m--> 101\u001b[0m     \u001b[38;5;28mself\u001b[39m\u001b[38;5;241m.\u001b[39m_run_job(job)\n",
      "File \u001b[1;32m~\\anaconda3\\Lib\\site-packages\\schedule\\__init__.py:173\u001b[0m, in \u001b[0;36mScheduler._run_job\u001b[1;34m(self, job)\u001b[0m\n\u001b[0;32m    172\u001b[0m \u001b[38;5;28;01mdef\u001b[39;00m \u001b[38;5;21m_run_job\u001b[39m(\u001b[38;5;28mself\u001b[39m, job: \u001b[38;5;124m\"\u001b[39m\u001b[38;5;124mJob\u001b[39m\u001b[38;5;124m\"\u001b[39m) \u001b[38;5;241m-\u001b[39m\u001b[38;5;241m>\u001b[39m \u001b[38;5;28;01mNone\u001b[39;00m:\n\u001b[1;32m--> 173\u001b[0m     ret \u001b[38;5;241m=\u001b[39m job\u001b[38;5;241m.\u001b[39mrun()\n\u001b[0;32m    174\u001b[0m     \u001b[38;5;28;01mif\u001b[39;00m \u001b[38;5;28misinstance\u001b[39m(ret, CancelJob) \u001b[38;5;129;01mor\u001b[39;00m ret \u001b[38;5;129;01mis\u001b[39;00m CancelJob:\n\u001b[0;32m    175\u001b[0m         \u001b[38;5;28mself\u001b[39m\u001b[38;5;241m.\u001b[39mcancel_job(job)\n",
      "File \u001b[1;32m~\\anaconda3\\Lib\\site-packages\\schedule\\__init__.py:691\u001b[0m, in \u001b[0;36mJob.run\u001b[1;34m(self)\u001b[0m\n\u001b[0;32m    688\u001b[0m     \u001b[38;5;28;01mreturn\u001b[39;00m CancelJob\n\u001b[0;32m    690\u001b[0m logger\u001b[38;5;241m.\u001b[39mdebug(\u001b[38;5;124m\"\u001b[39m\u001b[38;5;124mRunning job \u001b[39m\u001b[38;5;132;01m%s\u001b[39;00m\u001b[38;5;124m\"\u001b[39m, \u001b[38;5;28mself\u001b[39m)\n\u001b[1;32m--> 691\u001b[0m ret \u001b[38;5;241m=\u001b[39m \u001b[38;5;28mself\u001b[39m\u001b[38;5;241m.\u001b[39mjob_func()\n\u001b[0;32m    692\u001b[0m \u001b[38;5;28mself\u001b[39m\u001b[38;5;241m.\u001b[39mlast_run \u001b[38;5;241m=\u001b[39m datetime\u001b[38;5;241m.\u001b[39mdatetime\u001b[38;5;241m.\u001b[39mnow()\n\u001b[0;32m    693\u001b[0m \u001b[38;5;28mself\u001b[39m\u001b[38;5;241m.\u001b[39m_schedule_next_run()\n",
      "Cell \u001b[1;32mIn[51], line 4\u001b[0m, in \u001b[0;36mjob\u001b[1;34m()\u001b[0m\n\u001b[0;32m      2\u001b[0m data \u001b[38;5;241m=\u001b[39m get_weather(\u001b[38;5;124m\"\u001b[39m\u001b[38;5;124mNew York\u001b[39m\u001b[38;5;124m\"\u001b[39m)\n\u001b[0;32m      3\u001b[0m transformed \u001b[38;5;241m=\u001b[39m transform_weather(data)\n\u001b[1;32m----> 4\u001b[0m save_to_csv(transformed)\n\u001b[0;32m      5\u001b[0m \u001b[38;5;28mprint\u001b[39m(\u001b[38;5;124mf\u001b[39m\u001b[38;5;124m\"\u001b[39m\u001b[38;5;124mLogged weather at \u001b[39m\u001b[38;5;132;01m{\u001b[39;00mtransformed[\u001b[38;5;124m'\u001b[39m\u001b[38;5;124mtimestamp\u001b[39m\u001b[38;5;124m'\u001b[39m]\u001b[38;5;132;01m}\u001b[39;00m\u001b[38;5;124m\"\u001b[39m)\n",
      "Cell \u001b[1;32mIn[44], line 5\u001b[0m, in \u001b[0;36msave_to_csv\u001b[1;34m(data, filename)\u001b[0m\n\u001b[0;32m      2\u001b[0m \u001b[38;5;28;01mdef\u001b[39;00m \u001b[38;5;21msave_to_csv\u001b[39m(data, filename\u001b[38;5;241m=\u001b[39m\u001b[38;5;124m\"\u001b[39m\u001b[38;5;124mweather_data.csv\u001b[39m\u001b[38;5;124m\"\u001b[39m):\n\u001b[0;32m      3\u001b[0m     file_exists \u001b[38;5;241m=\u001b[39m os\u001b[38;5;241m.\u001b[39mpath\u001b[38;5;241m.\u001b[39misfile(filename)\n\u001b[1;32m----> 5\u001b[0m     \u001b[38;5;28;01mwith\u001b[39;00m \u001b[38;5;28mopen\u001b[39m(filename, mode\u001b[38;5;241m=\u001b[39m\u001b[38;5;124m'\u001b[39m\u001b[38;5;124ma\u001b[39m\u001b[38;5;124m'\u001b[39m, newline\u001b[38;5;241m=\u001b[39m\u001b[38;5;124m'\u001b[39m\u001b[38;5;124m'\u001b[39m) \u001b[38;5;28;01mas\u001b[39;00m file:\n\u001b[0;32m      6\u001b[0m         writer \u001b[38;5;241m=\u001b[39m csv\u001b[38;5;241m.\u001b[39mDictWriter(file, fieldnames\u001b[38;5;241m=\u001b[39m[\u001b[38;5;124m'\u001b[39m\u001b[38;5;124mcity\u001b[39m\u001b[38;5;124m'\u001b[39m, \u001b[38;5;124m'\u001b[39m\u001b[38;5;124mtemperature\u001b[39m\u001b[38;5;124m'\u001b[39m, \u001b[38;5;124m'\u001b[39m\u001b[38;5;124mhumidity\u001b[39m\u001b[38;5;124m'\u001b[39m, \u001b[38;5;124m'\u001b[39m\u001b[38;5;124mdescription\u001b[39m\u001b[38;5;124m'\u001b[39m, \u001b[38;5;124m'\u001b[39m\u001b[38;5;124mwind_speed\u001b[39m\u001b[38;5;124m'\u001b[39m, \u001b[38;5;124m'\u001b[39m\u001b[38;5;124mtimestamp\u001b[39m\u001b[38;5;124m'\u001b[39m])\n\u001b[0;32m      8\u001b[0m         \u001b[38;5;28;01mif\u001b[39;00m \u001b[38;5;129;01mnot\u001b[39;00m file_exists:\n",
      "File \u001b[1;32m~\\anaconda3\\Lib\\site-packages\\IPython\\core\\interactiveshell.py:324\u001b[0m, in \u001b[0;36m_modified_open\u001b[1;34m(file, *args, **kwargs)\u001b[0m\n\u001b[0;32m    317\u001b[0m \u001b[38;5;28;01mif\u001b[39;00m file \u001b[38;5;129;01min\u001b[39;00m {\u001b[38;5;241m0\u001b[39m, \u001b[38;5;241m1\u001b[39m, \u001b[38;5;241m2\u001b[39m}:\n\u001b[0;32m    318\u001b[0m     \u001b[38;5;28;01mraise\u001b[39;00m \u001b[38;5;167;01mValueError\u001b[39;00m(\n\u001b[0;32m    319\u001b[0m         \u001b[38;5;124mf\u001b[39m\u001b[38;5;124m\"\u001b[39m\u001b[38;5;124mIPython won\u001b[39m\u001b[38;5;124m'\u001b[39m\u001b[38;5;124mt let you open fd=\u001b[39m\u001b[38;5;132;01m{\u001b[39;00mfile\u001b[38;5;132;01m}\u001b[39;00m\u001b[38;5;124m by default \u001b[39m\u001b[38;5;124m\"\u001b[39m\n\u001b[0;32m    320\u001b[0m         \u001b[38;5;124m\"\u001b[39m\u001b[38;5;124mas it is likely to crash IPython. If you know what you are doing, \u001b[39m\u001b[38;5;124m\"\u001b[39m\n\u001b[0;32m    321\u001b[0m         \u001b[38;5;124m\"\u001b[39m\u001b[38;5;124myou can use builtins\u001b[39m\u001b[38;5;124m'\u001b[39m\u001b[38;5;124m open.\u001b[39m\u001b[38;5;124m\"\u001b[39m\n\u001b[0;32m    322\u001b[0m     )\n\u001b[1;32m--> 324\u001b[0m \u001b[38;5;28;01mreturn\u001b[39;00m io_open(file, \u001b[38;5;241m*\u001b[39margs, \u001b[38;5;241m*\u001b[39m\u001b[38;5;241m*\u001b[39mkwargs)\n",
      "\u001b[1;31mPermissionError\u001b[0m: [Errno 13] Permission denied: 'weather_data.csv'"
     ]
    }
   ],
   "source": [
    "while True:\n",
    "    schedule.run_pending()\n",
    "    time.sleep(1)"
   ]
  },
  {
   "cell_type": "code",
   "execution_count": null,
   "id": "6c01dc1d-576e-4c04-b9dc-d37f9c27a7f6",
   "metadata": {},
   "outputs": [],
   "source": []
  },
  {
   "cell_type": "code",
   "execution_count": null,
   "id": "9f981d54-cc31-47cb-9305-1be12c9945cb",
   "metadata": {},
   "outputs": [],
   "source": []
  }
 ],
 "metadata": {
  "kernelspec": {
   "display_name": "Python [conda env:base] *",
   "language": "python",
   "name": "conda-base-py"
  },
  "language_info": {
   "codemirror_mode": {
    "name": "ipython",
    "version": 3
   },
   "file_extension": ".py",
   "mimetype": "text/x-python",
   "name": "python",
   "nbconvert_exporter": "python",
   "pygments_lexer": "ipython3",
   "version": "3.12.7"
  }
 },
 "nbformat": 4,
 "nbformat_minor": 5
}
